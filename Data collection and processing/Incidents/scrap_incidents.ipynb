{
 "cells": [
  {
   "cell_type": "markdown",
   "metadata": {},
   "source": [
    "### Init driver and loging"
   ]
  },
  {
   "cell_type": "code",
   "execution_count": null,
   "metadata": {},
   "outputs": [],
   "source": [
    "from Scweet.utils import init_driver, log_in\n",
    "\n",
    "driver = init_driver(headless=False, show_images=False)\n",
    "log_in(driver, env=\".env\")"
   ]
  },
  {
   "cell_type": "markdown",
   "metadata": {},
   "source": [
    "### Define start and end date"
   ]
  },
  {
   "cell_type": "code",
   "execution_count": null,
   "metadata": {},
   "outputs": [],
   "source": [
    "start_date = \"2022-01-01\"\n",
    "end_date = \"2022-12-01\""
   ]
  },
  {
   "cell_type": "markdown",
   "metadata": {},
   "source": [
    "### Get start of incidents\n",
    "\n",
    "We're using hot reloading for don't lose the driver every time we change the code in Scweet (during corrections on lib)."
   ]
  },
  {
   "cell_type": "code",
   "execution_count": null,
   "metadata": {},
   "outputs": [],
   "source": [
    "%load_ext autoreload\n",
    "%autoreload 2\n",
    "\n",
    "from Scweet.scweet import scrape"
   ]
  },
  {
   "cell_type": "code",
   "execution_count": null,
   "metadata": {},
   "outputs": [],
   "source": [
    "hashtags = \"(%23Ligne9%20 OR %23ligne9%20)\""
   ]
  },
  {
   "cell_type": "code",
   "execution_count": null,
   "metadata": {},
   "outputs": [],
   "source": [
    "words_start = '(\"trafic est interrompu\" OR \"trafic est perturbé\" OR \"train stationne\" OR \"rame stationne\")'"
   ]
  },
  {
   "cell_type": "markdown",
   "metadata": {},
   "source": [
    "We're not taking responses as start of incident."
   ]
  },
  {
   "cell_type": "code",
   "execution_count": null,
   "metadata": {},
   "outputs": [],
   "source": [
    "start_incidents = scrape(\n",
    "    words=words_start + \" AND \" + hashtags,\n",
    "    since=start_date,\n",
    "    until=end_date,\n",
    "    from_account=\"Ligne9_RATP\",\n",
    "    display_type=\"Latest\",\n",
    "    filter_replies=True,\n",
    "    driver=driver,\n",
    "    interval=100,\n",
    ")"
   ]
  },
  {
   "cell_type": "markdown",
   "metadata": {},
   "source": [
    "Not autonatic naming of csv files in case where scraping stop prematurely. We can take the actual end_date of scraping and name the file accordingly."
   ]
  },
  {
   "cell_type": "code",
   "execution_count": null,
   "metadata": {},
   "outputs": [],
   "source": [
    "start_incidents.to_csv(\"start_incidents_2022_01_01_2022_11_29_2.csv\")"
   ]
  },
  {
   "cell_type": "markdown",
   "metadata": {},
   "source": [
    "### Get end incident"
   ]
  },
  {
   "cell_type": "code",
   "execution_count": null,
   "metadata": {},
   "outputs": [],
   "source": [
    "words_end = '(\"fin incident\" OR \"le trafic est rétabli\" OR \"le trafic reprend\" OR \"trafic normal\" OR \"trafic régulier\")'"
   ]
  },
  {
   "cell_type": "markdown",
   "metadata": {},
   "source": [
    "We're taking replies or non-replies as end of incidents."
   ]
  },
  {
   "cell_type": "code",
   "execution_count": null,
   "metadata": {},
   "outputs": [],
   "source": [
    "end_incidents = scrape(\n",
    "    words=words_end + \" AND \" + hashtags,\n",
    "    since=start_date,\n",
    "    until=end_date,\n",
    "    from_account=\"Ligne9_RATP\",\n",
    "    display_type=\"Latest\",\n",
    "    driver=driver,\n",
    "    interval=50,\n",
    ")"
   ]
  },
  {
   "cell_type": "markdown",
   "metadata": {},
   "source": [
    "Not autonatic naming of csv files in case where scraping stop prematurely. We can take the actual end_date of scraping and name the file accordingly."
   ]
  },
  {
   "cell_type": "code",
   "execution_count": null,
   "metadata": {},
   "outputs": [],
   "source": [
    "end_incidents.to_csv(\"end_incidents_2022_12_01_2023_08_29.csv\")"
   ]
  }
 ],
 "metadata": {
  "kernelspec": {
   "display_name": "bootcamp",
   "language": "python",
   "name": "python3"
  },
  "language_info": {
   "codemirror_mode": {
    "name": "ipython",
    "version": 3
   },
   "file_extension": ".py",
   "mimetype": "text/x-python",
   "name": "python",
   "nbconvert_exporter": "python",
   "pygments_lexer": "ipython3",
   "version": "3.10.10"
  },
  "orig_nbformat": 4
 },
 "nbformat": 4,
 "nbformat_minor": 2
}
