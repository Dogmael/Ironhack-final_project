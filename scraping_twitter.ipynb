{
 "cells": [
  {
   "cell_type": "code",
   "execution_count": null,
   "metadata": {},
   "outputs": [],
   "source": [
    "# pip install --upgrade selenium"
   ]
  },
  {
   "cell_type": "code",
   "execution_count": null,
   "metadata": {},
   "outputs": [],
   "source": [
    "from Scweet.scweet import scrape\n",
    "from Scweet.user import get_user_information, get_users_following, get_users_followers\n",
    "from Scweet.utils import init_driver, log_in\n",
    "\n",
    "import pandas as pd\n",
    "import datetime\n",
    "from dateutil.relativedelta import relativedelta"
   ]
  },
  {
   "cell_type": "code",
   "execution_count": null,
   "metadata": {},
   "outputs": [],
   "source": [
    "driver = init_driver(headless=False, show_images=False)\n",
    "log_in(driver, env=\".env\")"
   ]
  },
  {
   "cell_type": "code",
   "execution_count": null,
   "metadata": {},
   "outputs": [],
   "source": [
    "data =scrape(since=\"2023-01-01\", until=\"2023-01-05\", from_account = \"Ligne9_RATP\", interval=1, driver = driver)  #%Y-%m-%d"
   ]
  },
  {
   "cell_type": "code",
   "execution_count": null,
   "metadata": {},
   "outputs": [],
   "source": [
    "pd.set_option('display.max_colwidth', None)\n",
    "data[\"Embedded_text\"]"
   ]
  },
  {
   "cell_type": "code",
   "execution_count": null,
   "metadata": {},
   "outputs": [],
   "source": [
    "data.to_csv('Ligne9_RATP.csv')"
   ]
  },
  {
   "cell_type": "code",
   "execution_count": null,
   "metadata": {},
   "outputs": [],
   "source": [
    "driver = init_driver(headless=False, show_images=False)\n",
    "log_in(driver, env=\".env\")\n",
    "\n",
    "data2 =scrape(since=\"2023-01-01\", until=\"2023-02-01\", from_account = \"Ligne9_RATP\", interval=5, driver = driver)"
   ]
  },
  {
   "cell_type": "code",
   "execution_count": null,
   "metadata": {},
   "outputs": [],
   "source": [
    "data2.to_csv('Ligne9_RATP2.csv')"
   ]
  },
  {
   "cell_type": "code",
   "execution_count": null,
   "metadata": {},
   "outputs": [],
   "source": [
    "data[~data.apply(tuple,1).isin(data2.apply(tuple,1))]"
   ]
  },
  {
   "cell_type": "code",
   "execution_count": null,
   "metadata": {},
   "outputs": [],
   "source": [
    "driver = init_driver(headless=False, show_images=False)\n",
    "log_in(driver, env=\".env\")\n",
    "\n",
    "data3 =scrape(since=\"2023-01-01\", until=\"2023-02-01\", from_account = \"Ligne9_RATP\", interval=2, driver = driver)"
   ]
  },
  {
   "cell_type": "markdown",
   "metadata": {},
   "source": [
    "looking for tweets between 2023-01-21 and 2023-01-23 ...\n",
    " path : https://twitter.com/search?q=(from%3ALigne9_RATP)%20until%3A2023-01-23%20since%3A2023-01-21%20&src=typed_query\n",
    "Tweet made at: 2023-01-21T19:13:09.000Z is found.\n",
    "Tweet made at: 2023-01-21T19:10:55.000Z is found.\n",
    "Tweet made at: 2023-01-21T19:14:23.000Z is found.\n",
    "scroll  1\n",
    "scroll  2\n",
    "scroll  3\n",
    "scroll  4\n",
    "scroll  5"
   ]
  },
  {
   "cell_type": "code",
   "execution_count": null,
   "metadata": {},
   "outputs": [],
   "source": [
    "data3.to_csv('Ligne9_RATP3.csv')"
   ]
  },
  {
   "cell_type": "markdown",
   "metadata": {},
   "source": [
    "## Get data from line 9 for 1 year"
   ]
  },
  {
   "cell_type": "code",
   "execution_count": null,
   "metadata": {},
   "outputs": [],
   "source": [
    "def interval_generator(since, until): #returns a list of tuples (since, until) where since and until are strings in the format YYYY-MM-DD\n",
    "    since = datetime.datetime.strptime(since, \"%Y-%m-%d\")\n",
    "    until = datetime.datetime.strptime(until, \"%Y-%m-%d\")\n",
    "    interval = relativedelta(months=1)\n",
    "    intervals = []\n",
    "    while since < until:\n",
    "        intervals.append((since.strftime(\"%Y-%m-%d\"), (since + interval - datetime.timedelta(days=1)).strftime(\"%Y-%m-%d\")))\n",
    "        since += interval\n",
    "    return intervals"
   ]
  },
  {
   "cell_type": "code",
   "execution_count": null,
   "metadata": {},
   "outputs": [],
   "source": [
    "since = \"2022-05-01\"\n",
    "until = \"2022-07-31\"\n",
    "intervals = interval_generator(since, until)\n",
    "\n",
    "driver = init_driver(headless=False, show_images=False)\n",
    "log_in(driver, env=\".env\")\n",
    "one_year =scrape(since=intervals[0][0], until=intervals[0][1], from_account = \"Ligne9_RATP\", interval=1, driver = driver)\n",
    "\n",
    "for month in interval_generator(since, until)[1:] : \n",
    "    driver = init_driver(headless=False, show_images=False)\n",
    "    log_in(driver, env=\".env\")\n",
    "    one_month =scrape(since=month[0], until=month[1], from_account = \"Ligne9_RATP\", interval=1, driver = driver)\n",
    "    one_year = pd.concat([one_year,one_month])   \n",
    "    one_year.to_csv('Ligne9_RATP_1year_part2.csv')"
   ]
  },
  {
   "cell_type": "markdown",
   "metadata": {},
   "source": [
    "looking for tweets between 2022-05-24 and 2022-05-25 ..."
   ]
  },
  {
   "cell_type": "code",
   "execution_count": null,
   "metadata": {},
   "outputs": [],
   "source": [
    "since = \"2022-05-01\"\n",
    "until = \"2023-07-31\"\n",
    "interval_generator(since, until)"
   ]
  },
  {
   "cell_type": "markdown",
   "metadata": {},
   "source": [
    "\"looking for tweets between 2022-04-28 and 2022-04-29\" fait planter ?? "
   ]
  },
  {
   "cell_type": "markdown",
   "metadata": {},
   "source": [
    "J'ai été bloqué à \"looking for tweets between 2022-04-28 and 2022-04-29\" (avec les paramètres \"since = \"2022-04-01\", until = \"2022-07-31\")"
   ]
  },
  {
   "cell_type": "markdown",
   "metadata": {},
   "source": [
    "looking for tweets between 2022-08-30 and 2022-08-31 ...\n",
    " path : https://twitter.com/search?q=(from%3ALigne9_RATP)%20until%3A2022-08-31%20since%3A2022-08-30%20&src=typed_query\n",
    "scroll  1\n",
    "Tweet made at: 2022-08-30T21:34:35.000Z is found.\n",
    "Tweet made at: 2022-08-30T21:22:29.000Z is found.\n",
    "Tweet made at: 2022-08-30T20:10:01.000Z is found.\n",
    "scroll  2\n",
    "scroll  3"
   ]
  },
  {
   "cell_type": "code",
   "execution_count": null,
   "metadata": {},
   "outputs": [],
   "source": [
    "data =scrape(since=\"2023-01-01\", until=\"2023-02-01\", from_account = \"Ligne9_RATP\", display_type=\"Latest\", words=\"#Ligne9//#ligne9//interrompu//❌//⚠️\", interval=5, driver = driver)"
   ]
  }
 ],
 "metadata": {
  "kernelspec": {
   "display_name": "bootcamp",
   "language": "python",
   "name": "python3"
  },
  "language_info": {
   "codemirror_mode": {
    "name": "ipython",
    "version": 3
   },
   "file_extension": ".py",
   "mimetype": "text/x-python",
   "name": "python",
   "nbconvert_exporter": "python",
   "pygments_lexer": "ipython3",
   "version": "3.10.10"
  },
  "orig_nbformat": 4
 },
 "nbformat": 4,
 "nbformat_minor": 2
}
