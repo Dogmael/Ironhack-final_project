{
 "cells": [
  {
   "cell_type": "code",
   "execution_count": null,
   "metadata": {},
   "outputs": [],
   "source": [
    "from Scweet.scweet import scrape\n",
    "from Scweet.user import get_user_information, get_users_following, get_users_followers\n",
    "from Scweet.utils import init_driver, log_in\n",
    "\n",
    "import pandas as pd\n",
    "import datetime\n",
    "from dateutil.relativedelta import relativedelta"
   ]
  },
  {
   "cell_type": "markdown",
   "metadata": {},
   "source": [
    "#### Init driver and loging"
   ]
  },
  {
   "cell_type": "code",
   "execution_count": null,
   "metadata": {},
   "outputs": [],
   "source": [
    "driver = init_driver(headless=False, show_images=False)\n",
    "log_in(driver, env=\".env\")"
   ]
  },
  {
   "cell_type": "markdown",
   "metadata": {},
   "source": [
    "#### Get start of incidents"
   ]
  },
  {
   "cell_type": "code",
   "execution_count": null,
   "metadata": {},
   "outputs": [],
   "source": [
    "%load_ext autoreload\n",
    "%autoreload 2\n",
    "\n",
    "from Scweet.scweet import scrape\n",
    "from Scweet.user import get_user_information, get_users_following, get_users_followers\n",
    "from Scweet.utils import init_driver, log_in"
   ]
  },
  {
   "cell_type": "code",
   "execution_count": null,
   "metadata": {},
   "outputs": [],
   "source": [
    "words_start = \"(\\\"trafic est interrompu\\\" OR \\\"trafic est perturbé\\\" OR \\\"train stationne\\\" OR \\\"rame stationne\\\")\""
   ]
  },
  {
   "cell_type": "code",
   "execution_count": null,
   "metadata": {},
   "outputs": [],
   "source": [
    "#On ne prend pas les replies \n",
    "start_incidents =scrape(words= words_start +\" AND \"+\"(%23Ligne9%20 OR %23ligne9%20)\", since=\"2020-06-18\", until=\"2021-12-31\", from_account = \"Ligne9_RATP\", display_type=\"Latest\", filter_replies= True, driver = driver, interval=100)"
   ]
  },
  {
   "cell_type": "markdown",
   "metadata": {},
   "source": [
    "until, end search :  2021-12-31 2020-09-26"
   ]
  },
  {
   "cell_type": "code",
   "execution_count": null,
   "metadata": {},
   "outputs": [],
   "source": [
    "start_incidents.to_csv(\"start_incidents_2020_06_18_2021_12_31_2.csv\")"
   ]
  },
  {
   "cell_type": "markdown",
   "metadata": {},
   "source": [
    "### Get end incident"
   ]
  },
  {
   "cell_type": "code",
   "execution_count": null,
   "metadata": {},
   "outputs": [],
   "source": [
    "words_end = [\"fin incident\", \"le trafic est rétabli\", \"le trafic reprend\" \"trafic normal\", \"trafic régulier\", \"trafic reprend\"]\n",
    "words_end = \"(\\\"fin incident\\\" OR \\\"le trafic est rétabli\\\" OR \\\"le trafic reprend\\\" OR \\\"trafic normal\\\" OR \\\"trafic régulier\\\")\"\n",
    "\n",
    "hashtags = \"(%23Ligne9%20 OR %23ligne9%20)\""
   ]
  },
  {
   "cell_type": "code",
   "execution_count": null,
   "metadata": {},
   "outputs": [],
   "source": [
    "#On prend replies ou non\n",
    "end_incidents =scrape(words= words_end +\" AND \"+hashtags,  since=\"2018-01-01\", until=\"2023-08-29\", from_account = \"Ligne9_RATP\", display_type=\"Latest\", driver = driver, interval=50)"
   ]
  },
  {
   "cell_type": "code",
   "execution_count": null,
   "metadata": {},
   "outputs": [],
   "source": [
    "end_incidents.to_csv(\"end_incidents_2018_01_01_2023_08_29.csv\")"
   ]
  },
  {
   "cell_type": "markdown",
   "metadata": {},
   "source": [
    "#### Mouvement sociaux"
   ]
  },
  {
   "cell_type": "markdown",
   "metadata": {},
   "source": [
    "[Mouvement social] (from:RATPgroup)"
   ]
  }
 ],
 "metadata": {
  "kernelspec": {
   "display_name": "bootcamp",
   "language": "python",
   "name": "python3"
  },
  "language_info": {
   "codemirror_mode": {
    "name": "ipython",
    "version": 3
   },
   "file_extension": ".py",
   "mimetype": "text/x-python",
   "name": "python",
   "nbconvert_exporter": "python",
   "pygments_lexer": "ipython3",
   "version": "3.10.10"
  },
  "orig_nbformat": 4
 },
 "nbformat": 4,
 "nbformat_minor": 2
}
