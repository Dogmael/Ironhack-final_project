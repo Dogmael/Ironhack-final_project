{
 "cells": [
  {
   "cell_type": "code",
   "execution_count": 1,
   "metadata": {},
   "outputs": [],
   "source": [
    "import pandas as pd\n",
    "import glob\n",
    "import os\n",
    "import sys"
   ]
  },
  {
   "cell_type": "code",
   "execution_count": 14,
   "metadata": {},
   "outputs": [
    {
     "name": "stdout",
     "output_type": "stream",
     "text": [
      "(478, 12)\n",
      "(516, 12)\n",
      "(189, 12)\n",
      "(306, 12)\n"
     ]
    },
    {
     "data": {
      "text/plain": [
       "(1489, 12)"
      ]
     },
     "execution_count": 14,
     "metadata": {},
     "output_type": "execute_result"
    }
   ],
   "source": [
    "# get all csv files in current folder\n",
    "path = os.getcwd()\n",
    "files = glob.glob(path + \"/*.csv\")\n",
    "\n",
    "# read all csv files and append them to a list\n",
    "li = []\n",
    "for filename in files:\n",
    "    df = pd.read_csv(filename, index_col=None, header=0)\n",
    "    print(df.shape)\n",
    "    li.append(df)\n",
    "\n",
    "\n",
    "# concatenate all dataframes in the list\n",
    "frame = pd.concat(li, axis=0, ignore_index=True)\n",
    "\n",
    "frame.sort_values(by=['Timestamp'], inplace=True)\n",
    "\n",
    "frame.shape"
   ]
  },
  {
   "cell_type": "code",
   "execution_count": 12,
   "metadata": {},
   "outputs": [],
   "source": [
    "frame.to_csv('end_incidents_2018_01_01_2023_08_29.csv', index=False)"
   ]
  },
  {
   "cell_type": "code",
   "execution_count": null,
   "metadata": {},
   "outputs": [],
   "source": []
  }
 ],
 "metadata": {
  "kernelspec": {
   "display_name": "bootcamp",
   "language": "python",
   "name": "python3"
  },
  "language_info": {
   "codemirror_mode": {
    "name": "ipython",
    "version": 3
   },
   "file_extension": ".py",
   "mimetype": "text/x-python",
   "name": "python",
   "nbconvert_exporter": "python",
   "pygments_lexer": "ipython3",
   "version": "3.10.10"
  },
  "orig_nbformat": 4
 },
 "nbformat": 4,
 "nbformat_minor": 2
}
